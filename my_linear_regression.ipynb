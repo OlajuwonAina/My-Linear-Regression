{
 "cells": [
  {
   "cell_type": "code",
   "execution_count": 1,
   "id": "e89926c9",
   "metadata": {},
   "outputs": [],
   "source": [
    "#Import modules and libraries\n",
    "import numpy as np\n",
    "import matplotlib.pyplot as plt"
   ]
  },
  {
   "cell_type": "code",
   "execution_count": 2,
   "id": "5aacf9ef",
   "metadata": {},
   "outputs": [
    {
     "name": "stdout",
     "output_type": "stream",
     "text": [
      "Collecting seaborn\n",
      "  Downloading seaborn-0.11.2-py3-none-any.whl (292 kB)\n",
      "     |████████████████████████████████| 292 kB 13.9 MB/s            \n",
      "\u001b[?25hRequirement already satisfied: scipy>=1.0 in /home/docode/.pyenv/versions/3.6.7/lib/python3.6/site-packages (from seaborn) (1.5.4)\n",
      "Requirement already satisfied: pandas>=0.23 in /home/docode/.pyenv/versions/3.6.7/lib/python3.6/site-packages (from seaborn) (1.1.5)\n",
      "Requirement already satisfied: matplotlib>=2.2 in /home/docode/.pyenv/versions/3.6.7/lib/python3.6/site-packages (from seaborn) (3.3.4)\n",
      "Requirement already satisfied: numpy>=1.15 in /home/docode/.pyenv/versions/3.6.7/lib/python3.6/site-packages (from seaborn) (1.19.5)\n",
      "Requirement already satisfied: kiwisolver>=1.0.1 in /home/docode/.pyenv/versions/3.6.7/lib/python3.6/site-packages (from matplotlib>=2.2->seaborn) (1.3.1)\n",
      "Requirement already satisfied: cycler>=0.10 in /home/docode/.pyenv/versions/3.6.7/lib/python3.6/site-packages (from matplotlib>=2.2->seaborn) (0.11.0)\n",
      "Requirement already satisfied: python-dateutil>=2.1 in /home/docode/.pyenv/versions/3.6.7/lib/python3.6/site-packages (from matplotlib>=2.2->seaborn) (2.8.2)\n",
      "Requirement already satisfied: pyparsing!=2.0.4,!=2.1.2,!=2.1.6,>=2.0.3 in /home/docode/.pyenv/versions/3.6.7/lib/python3.6/site-packages (from matplotlib>=2.2->seaborn) (3.0.7)\n",
      "Requirement already satisfied: pillow>=6.2.0 in /home/docode/.pyenv/versions/3.6.7/lib/python3.6/site-packages (from matplotlib>=2.2->seaborn) (8.4.0)\n",
      "Requirement already satisfied: pytz>=2017.2 in /home/docode/.pyenv/versions/3.6.7/lib/python3.6/site-packages (from pandas>=0.23->seaborn) (2022.5)\n",
      "Requirement already satisfied: six>=1.5 in /home/docode/.pyenv/versions/3.6.7/lib/python3.6/site-packages (from python-dateutil>=2.1->matplotlib>=2.2->seaborn) (1.16.0)\n",
      "Installing collected packages: seaborn\n",
      "Successfully installed seaborn-0.11.2\n"
     ]
    }
   ],
   "source": [
    "# Install seaborn as sns\n",
    "! pip install seaborn"
   ]
  },
  {
   "cell_type": "code",
   "execution_count": 3,
   "id": "6138aa8a",
   "metadata": {},
   "outputs": [],
   "source": [
    "#import seaborn as sns\n",
    "import seaborn as sns\n"
   ]
  },
  {
   "cell_type": "code",
   "execution_count": 4,
   "id": "3a368338",
   "metadata": {},
   "outputs": [],
   "source": [
    "# The Linear Hypothesis Function\n",
    "def h(x, theta):\n",
    "    return np.matmul(x, theta.reshape(-1, 1))"
   ]
  },
  {
   "cell_type": "code",
   "execution_count": 5,
   "id": "8beba11e",
   "metadata": {},
   "outputs": [],
   "source": [
    "# Calculating the error function\n",
    "def mean_squared_error(y_predicted, y_label):\n",
    "    return np.mean(np.square(y_predicted - y_label))"
   ]
  },
  {
   "cell_type": "code",
   "execution_count": 6,
   "id": "84d0160b",
   "metadata": {},
   "outputs": [],
   "source": [
    "# implementing the Least Square Linear Regression Class\n",
    "class LeastSquaresRegression():\n",
    "    def __init__(self,):\n",
    "        self.theta_ = None\n",
    "        \n",
    "    def fit(self, X, y):\n",
    "        \n",
    "        # Compute theta using the Normal Equation using linear algebra\n",
    "        self.theta_ = np.matmul(np.matmul(np.linalg.inv(np.matmul(X.T, X)), X.T),y)\n",
    "        \n",
    "    def predict(self, X):\n",
    "        # Predict using learned weights\n",
    "        y_pred = h(X,self.theta_)\n",
    "        return y_pred\n",
    "\n",
    "X = 4 * np.random.rand(100, 1)\n",
    "y = 10 + 2 * X + np.random.randn(100, 1)"
   ]
  },
  {
   "cell_type": "code",
   "execution_count": 7,
   "id": "f9b2d579",
   "metadata": {},
   "outputs": [],
   "source": [
    "# To see how the points are related we we view it plotting a graph\n",
    "def view_points_relationship(X, y):\n",
    "    sns.set_style(\"darkgrid\")\n",
    "    sns.set_theme(\"notebook\")\n",
    "    sns.scatterplot(X.flatten(),y.flatten())\n",
    "    plt.xlabel('$X$')\n",
    "    plt.ylabel('$Y$')\n",
    "    plt.legend(labels=[\"$y=10 + 2x$\"])\n",
    "    plt.title(\"Distribution of points in $y=10 + 2x$\")\n",
    "    plt.show()"
   ]
  },
  {
   "cell_type": "code",
   "execution_count": 8,
   "id": "b9c3e3c5",
   "metadata": {},
   "outputs": [],
   "source": [
    "# view_points_relationship(X, y)\n",
    "\n",
    "# Creating the Bias Column\n",
    "def bias_column(X):\n",
    "    m=len(X)\n",
    "    return np.hstack((np.ones((m, 1)), X))"
   ]
  },
  {
   "cell_type": "code",
   "execution_count": 9,
   "id": "e63323d0",
   "metadata": {},
   "outputs": [],
   "source": [
    "def my_plot(X, y, y_new):\n",
    "    sns.set_style(\"darkgrid\")\n",
    "    sns.set_theme(\"notebook\")\n",
    "    sns.scatterplot(X.flatten(),y.flatten())\n",
    "    plt.plot(X, y_new,color='red')\n",
    "    plt.xlabel('$X$')\n",
    "    plt.ylabel('$Y$')\n",
    "    plt.legend(labels=[\"Y_values\", \"predicted Y_values\"])\n",
    "    plt.title(\"Y values vs Predicted values of  Y\")\n",
    "    plt.show()"
   ]
  },
  {
   "cell_type": "code",
   "execution_count": 10,
   "id": "5138b715",
   "metadata": {},
   "outputs": [],
   "source": [
    "class GradientDescentOptimizer():\n",
    "\n",
    "    def __init__(self, f, fprime, start, learning_rate = 0.1):\n",
    "        self.f_      = f                       # The function\n",
    "        self.fprime_ = fprime                  # The gradient of f\n",
    "        self.current_ = start.reshape(-1,1)                 # The current point being evaluated\n",
    "        self.learning_rate_ = learning_rate    # Does this need a comment ?\n",
    "\n",
    "        # Save history as attributes\n",
    "        self.history_ = [start]\n",
    "    \n",
    "    def step(self):\n",
    "        gradient = self.fprime_(self.current_) #Taking a gradient step\n",
    "        self.current_ -= self.learning_rate_ * gradient # computing and updating the value\n",
    "        self.history_.append(self.current_) # appending the new value to history\n",
    "\n",
    "        \n",
    "    def optimize(self, iterations=100):\n",
    "        for i in range(iterations):\n",
    "            self.step()\n",
    "\n",
    "\n",
    "    def getCurrentValue(self):\n",
    "        return self.current_\n",
    "\n",
    "\n",
    "    def print_result(self):\n",
    "        print(\"Best theta found is \" + str(self.current_))\n",
    "        print(\"Value of f at this theta: f(theta) = \" + str(self.f_(self.current_)))\n",
    "        print(\"Value of f prime at this theta: f'(theta) = \" + str(self.fprime_(self.current_)))\n",
    "\n",
    "def f(x):\n",
    "    a = np.array([2, 6])\n",
    "    return 3 + np.dot(x - a, x - a)\n",
    "\n",
    "def fprime(x):\n",
    "    a = np.array([2, 6])\n",
    "    return 2 * (x - a)"
   ]
  },
  {
   "cell_type": "code",
   "execution_count": null,
   "id": "6342f1d8",
   "metadata": {},
   "outputs": [],
   "source": []
  }
 ],
 "metadata": {
  "kernelspec": {
   "display_name": "Python 3",
   "language": "python",
   "name": "python3"
  },
  "language_info": {
   "codemirror_mode": {
    "name": "ipython",
    "version": 3
   },
   "file_extension": ".py",
   "mimetype": "text/x-python",
   "name": "python",
   "nbconvert_exporter": "python",
   "pygments_lexer": "ipython3",
   "version": "3.6.7"
  }
 },
 "nbformat": 4,
 "nbformat_minor": 5
}
